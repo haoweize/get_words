{
 "cells": [
  {
   "cell_type": "markdown",
   "id": "0eb20061",
   "metadata": {},
   "source": [
    "读取恶意文件进行文本拼接"
   ]
  },
  {
   "cell_type": "code",
   "execution_count": null,
   "id": "0cbd348e",
   "metadata": {},
   "outputs": [],
   "source": [
    "import re\n",
    "import pandas as pd\n",
    "import zhconv\n",
    "# 读取文件\n",
    "df = pd.read_csv(r'fraud\\before_cut_fraud.csv')\n",
    "# df = pd.read_csv(r'gamble\\before_cut_gamble.csv')\n",
    "# df = pd.read_csv(r'pornography\\before_cut_pornography.csv')\n",
    "# df = pd.read_csv(r'other\\before_cut_other.csv')\n",
    "# 建立正则表达式\n",
    "rexp = r'(?P<content>.*?):\\d+'\n",
    "re_obj = re.compile(rexp, re.S)\n",
    "# 对数据进行处理 ，逗号分隔，拼接成字符串\n",
    "df['pagetxt'] = df['pagetxt'].apply(lambda i : i.split(','))\n",
    "df['pagetxt'] = df['pagetxt'].apply(lambda i : ''.join(i))\n",
    "# pagetxt文本内容，正则表达式findall返回列表并用join拼接成字符串以便后续分词\n",
    "df['content'] = df['pagetxt'].apply(lambda i : ''.join((re.findall(rexp, i))))\n",
    "# df['content'] = df['content'].apply(lambda i : zhconv.convert(str(i), 'zh-hans'))\n",
    "# 创建新的dataframe\n",
    "new_df = pd.DataFrame(columns=['urlid', 'url', 'pagetxt', 'label'])\n",
    "new_df['urlid'] = df['urlid']\n",
    "new_df['url'] = df['url']\n",
    "new_df['pagetxt'] = df['content']\n",
    "new_df['label'] = df['result']\n",
    "# 将新的dataframe输出为csv文件\n",
    "# new_df.to_csv(r'other\\other.csv', encoding='utf-8-sig')\n",
    "new_df.to_csv(r'fraud\\fraud.csv', encoding='utf-8-sig')\n",
    "# new_df.to_csv(r'gamble\\gamble.csv', encoding='utf-8-sig')\n",
    "# new_df.to_csv(r'pornography\\pornography.csv', encoding='utf-8-sig')"
   ]
  },
  {
   "cell_type": "markdown",
   "id": "07bbfb4f",
   "metadata": {},
   "source": [
    "读取文本进行分词，并生成词表"
   ]
  },
  {
   "cell_type": "code",
   "execution_count": null,
   "id": "fe770754",
   "metadata": {},
   "outputs": [],
   "source": [
    "\n",
    "# df = pd.read_csv(r'pornography\\pornography.csv')\n",
    "# df = pd.read_csv(r'other\\other.csv')\n",
    "# df = pd.read_csv(r'gamble\\gamble.csv')\n",
    "df = pd.read_csv(r'fraud\\fraud.csv')\n",
    "df.head()"
   ]
  },
  {
   "cell_type": "code",
   "execution_count": 2,
   "id": "399cfd46",
   "metadata": {},
   "outputs": [],
   "source": [
    "import jieba\n",
    "import re\n",
    "def get_word(text, word_dic, stop_words):\n",
    "  # 将文本切分为单个词\n",
    "  words = jieba.cut(text)\n",
    "  for w in words:\n",
    "    # 构建词表\n",
    "    if w in stop_words:\n",
    "      continue\n",
    "    if w in word_dic:\n",
    "      word_dic[w] += 1\n",
    "    else:\n",
    "      word_dic[w] = 1"
   ]
  },
  {
   "cell_type": "code",
   "execution_count": 3,
   "id": "e644935f",
   "metadata": {},
   "outputs": [],
   "source": [
    "def read_stopwords():\n",
    "  stop_words = []\n",
    "  with open(r\"hit_stopwords.txt\", mode=\"r\", encoding=\"utf-8\") as f:\n",
    "    for w in f.read().splitlines():\n",
    "      stop_words.append(w)\n",
    "  return stop_words"
   ]
  },
  {
   "cell_type": "code",
   "execution_count": 4,
   "id": "e37e14f9",
   "metadata": {},
   "outputs": [
    {
     "name": "stderr",
     "output_type": "stream",
     "text": [
      "Building prefix dict from the default dictionary ...\n",
      "Loading model from cache C:\\Users\\Hs\\AppData\\Local\\Temp\\jieba.cache\n",
      "Loading model cost 0.429 seconds.\n",
      "Prefix dict has been built successfully.\n"
     ]
    }
   ],
   "source": [
    "# 生成语料库\n",
    "corpus = []\n",
    "stop_words = read_stopwords()\n",
    "word_dic = {}\n",
    "df['text'] = df['pagetxt'].apply(lambda i : get_word(str(i), word_dic, stop_words))\n",
    "word_list = sorted(word_dic.items(), key=lambda item: item[1], reverse=True)\n",
    "with open('fraud/fraud_word.txt', 'w', encoding='utf-8') as f:\n",
    "    for word, freq in word_list:\n",
    "        f.write(word + \" \" + str(freq) + \"\\n\")"
   ]
  }
 ],
 "metadata": {
  "kernelspec": {
   "display_name": "base",
   "language": "python",
   "name": "base"
  },
  "language_info": {
   "codemirror_mode": {
    "name": "ipython",
    "version": 3
   },
   "file_extension": ".py",
   "mimetype": "text/x-python",
   "name": "python",
   "nbconvert_exporter": "python",
   "pygments_lexer": "ipython3",
   "version": "3.9.12"
  }
 },
 "nbformat": 4,
 "nbformat_minor": 5
}
