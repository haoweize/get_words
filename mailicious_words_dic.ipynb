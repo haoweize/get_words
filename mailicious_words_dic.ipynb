{
 "cells": [
  {
   "cell_type": "code",
   "execution_count": 1,
   "id": "18c3d81d",
   "metadata": {},
   "outputs": [
    {
     "data": {
      "text/html": [
       "<div>\n",
       "<style scoped>\n",
       "    .dataframe tbody tr th:only-of-type {\n",
       "        vertical-align: middle;\n",
       "    }\n",
       "\n",
       "    .dataframe tbody tr th {\n",
       "        vertical-align: top;\n",
       "    }\n",
       "\n",
       "    .dataframe thead th {\n",
       "        text-align: right;\n",
       "    }\n",
       "</style>\n",
       "<table border=\"1\" class=\"dataframe\">\n",
       "  <thead>\n",
       "    <tr style=\"text-align: right;\">\n",
       "      <th></th>\n",
       "      <th>Unnamed: 0</th>\n",
       "      <th>urlid</th>\n",
       "      <th>url</th>\n",
       "      <th>pagetxt</th>\n",
       "      <th>label</th>\n",
       "    </tr>\n",
       "  </thead>\n",
       "  <tbody>\n",
       "    <tr>\n",
       "      <th>0</th>\n",
       "      <td>0</td>\n",
       "      <td>00155991f62efb82f826259f8acafd3f</td>\n",
       "      <td>http://yruxxphjij.weloveart.cn/gsgovrz/Pay.html</td>\n",
       "      <td>一步不可个人身份中华人民共和国中国银行中心之后人力资源使用信息储蓄卡全国关于农业办理加密务必...</td>\n",
       "      <td>1</td>\n",
       "    </tr>\n",
       "    <tr>\n",
       "      <th>1</th>\n",
       "      <td>1</td>\n",
       "      <td>002d2c3bf4fd5243883829196f02daca</td>\n",
       "      <td>http://bwdecv.eqjhxyswlabw.xabbzyyvqst.dtgypbu...</td>\n",
       "      <td>一步不便为了出行卡已即时失效官方导致带来提示收到敬请新能源是否更新正常用户由此确定系统升级绑...</td>\n",
       "      <td>1</td>\n",
       "    </tr>\n",
       "    <tr>\n",
       "      <th>2</th>\n",
       "      <td>2</td>\n",
       "      <td>0034a1876ef9e4ca7319b7c4c82b4947</td>\n",
       "      <td>http://n1mj7lyw.dwehz4.buzz/17430489_Y8H1.html</td>\n",
       "      <td>个人资料产品以下保障信息安全信赖借贷分钟口碑合作安全完成实名客服提现操作放款日息最快最高权威...</td>\n",
       "      <td>1</td>\n",
       "    </tr>\n",
       "    <tr>\n",
       "      <th>3</th>\n",
       "      <td>3</td>\n",
       "      <td>0038bf8676ab689552bcfe2900fe76fe</td>\n",
       "      <td>http://pf7xsd.melcfke.cn/shouye.asp</td>\n",
       "      <td>一步不便即时失效官方导致带来收到敬请新能源是否更新用户系统升级绑定认证中心说明谅解车牌号输入...</td>\n",
       "      <td>1</td>\n",
       "    </tr>\n",
       "    <tr>\n",
       "      <th>4</th>\n",
       "      <td>4</td>\n",
       "      <td>007e1fd5aad7c853ff5e7a4007027ed2</td>\n",
       "      <td>http://48p33kq9.fcxg.ink/index.php?get=index</td>\n",
       "      <td>下发不便个人资料个人身份中华人民共和国中国邮政中国银行人力资源以及保障局信息停止使用储蓄卡全...</td>\n",
       "      <td>1</td>\n",
       "    </tr>\n",
       "  </tbody>\n",
       "</table>\n",
       "</div>"
      ],
      "text/plain": [
       "   Unnamed: 0                             urlid  \\\n",
       "0           0  00155991f62efb82f826259f8acafd3f   \n",
       "1           1  002d2c3bf4fd5243883829196f02daca   \n",
       "2           2  0034a1876ef9e4ca7319b7c4c82b4947   \n",
       "3           3  0038bf8676ab689552bcfe2900fe76fe   \n",
       "4           4  007e1fd5aad7c853ff5e7a4007027ed2   \n",
       "\n",
       "                                                 url  \\\n",
       "0    http://yruxxphjij.weloveart.cn/gsgovrz/Pay.html   \n",
       "1  http://bwdecv.eqjhxyswlabw.xabbzyyvqst.dtgypbu...   \n",
       "2     http://n1mj7lyw.dwehz4.buzz/17430489_Y8H1.html   \n",
       "3                http://pf7xsd.melcfke.cn/shouye.asp   \n",
       "4       http://48p33kq9.fcxg.ink/index.php?get=index   \n",
       "\n",
       "                                             pagetxt  label  \n",
       "0  一步不可个人身份中华人民共和国中国银行中心之后人力资源使用信息储蓄卡全国关于农业办理加密务必...      1  \n",
       "1  一步不便为了出行卡已即时失效官方导致带来提示收到敬请新能源是否更新正常用户由此确定系统升级绑...      1  \n",
       "2  个人资料产品以下保障信息安全信赖借贷分钟口碑合作安全完成实名客服提现操作放款日息最快最高权威...      1  \n",
       "3  一步不便即时失效官方导致带来收到敬请新能源是否更新用户系统升级绑定认证中心说明谅解车牌号输入...      1  \n",
       "4  下发不便个人资料个人身份中华人民共和国中国邮政中国银行人力资源以及保障局信息停止使用储蓄卡全...      1  "
      ]
     },
     "execution_count": 1,
     "metadata": {},
     "output_type": "execute_result"
    }
   ],
   "source": [
    "import pandas as pd\n",
    "# 读取训练集\n",
    "# df = pd.read_csv(r'C:\\Users\\Hs\\PycharmProjects\\pythonProject1\\url_category\\pornography.csv')\n",
    "# df = pd.read_csv(r'C:\\Users\\Hs\\PycharmProjects\\pythonProject1\\url_category\\other.csv')\n",
    "# df = pd.read_csv(r'C:\\Users\\Hs\\PycharmProjects\\pythonProject1\\url_category\\gamble.csv')\n",
    "df = pd.read_csv(r'C:\\Users\\Hs\\PycharmProjects\\pythonProject1\\url_category\\fraud.csv')\n",
    "df.head()"
   ]
  },
  {
   "cell_type": "code",
   "execution_count": 2,
   "id": "399cfd46",
   "metadata": {},
   "outputs": [],
   "source": [
    "import jieba\n",
    "import re\n",
    "def get_word(text, word_dic, stop_words):\n",
    "  # 将文本切分为单个词\n",
    "  words = jieba.cut(text)\n",
    "  for w in words:\n",
    "    # 构建词表\n",
    "    if w in stop_words:\n",
    "      continue\n",
    "    if w in word_dic:\n",
    "      word_dic[w] += 1\n",
    "    else:\n",
    "      word_dic[w] = 1"
   ]
  },
  {
   "cell_type": "code",
   "execution_count": 3,
   "id": "e644935f",
   "metadata": {},
   "outputs": [],
   "source": [
    "def read_stopwords():\n",
    "  stop_words = []\n",
    "  with open(r\"C:\\Users\\Hs\\Desktop\\get_words\\get_words\\hit_stopwords.txt\", mode=\"r\", encoding=\"utf-8\") as f:\n",
    "    for w in f.read().splitlines():\n",
    "      stop_words.append(w)\n",
    "  return stop_words"
   ]
  },
  {
   "cell_type": "code",
   "execution_count": 4,
   "id": "e37e14f9",
   "metadata": {},
   "outputs": [
    {
     "name": "stderr",
     "output_type": "stream",
     "text": [
      "Building prefix dict from the default dictionary ...\n",
      "Loading model from cache C:\\Users\\Hs\\AppData\\Local\\Temp\\jieba.cache\n",
      "Loading model cost 0.392 seconds.\n",
      "Prefix dict has been built successfully.\n"
     ]
    },
    {
     "name": "stdout",
     "output_type": "stream",
     "text": [
      "<class 'list'>\n"
     ]
    }
   ],
   "source": [
    "import os\n",
    "import re\n",
    "import jieba\n",
    "\n",
    "\n",
    "# 生成语料库\n",
    "corpus = []\n",
    "stop_words = read_stopwords()\n",
    "word_dic = {}\n",
    "df['text'] = df['pagetxt'].apply(lambda i : get_word(str(i), word_dic, stop_words))\n",
    "word_list = sorted(word_dic.items(), key=lambda item: item[1], reverse=True)\n",
    "print(type(word_list))"
   ]
  },
  {
   "cell_type": "code",
   "execution_count": 5,
   "id": "66f49dfb",
   "metadata": {},
   "outputs": [
    {
     "data": {
      "text/plain": [
       "('卡密', 6)"
      ]
     },
     "execution_count": 5,
     "metadata": {},
     "output_type": "execute_result"
    }
   ],
   "source": [
    "word_list[500]"
   ]
  },
  {
   "cell_type": "code",
   "execution_count": 6,
   "id": "67e2c14b",
   "metadata": {},
   "outputs": [],
   "source": [
    "with open('fraud_word.txt', 'w', encoding='utf-8') as f:\n",
    "    for word, freq in word_list:\n",
    "        f.write(word + \" \" + str(freq) + \"\\n\")"
   ]
  },
  {
   "cell_type": "code",
   "execution_count": null,
   "id": "d444ce1b",
   "metadata": {},
   "outputs": [],
   "source": []
  }
 ],
 "metadata": {
  "kernelspec": {
   "display_name": "base",
   "language": "python",
   "name": "base"
  },
  "language_info": {
   "codemirror_mode": {
    "name": "ipython",
    "version": 3
   },
   "file_extension": ".py",
   "mimetype": "text/x-python",
   "name": "python",
   "nbconvert_exporter": "python",
   "pygments_lexer": "ipython3",
   "version": "3.9.12"
  }
 },
 "nbformat": 4,
 "nbformat_minor": 5
}
